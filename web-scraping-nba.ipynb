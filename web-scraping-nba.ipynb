{
 "cells": [
  {
   "cell_type": "markdown",
   "id": "6f197a47",
   "metadata": {},
   "source": [
    "## Import libraries"
   ]
  },
  {
   "cell_type": "code",
   "execution_count": 42,
   "id": "15b5480b-95b8-4a21-88d0-11a0cb6cf67f",
   "metadata": {},
   "outputs": [],
   "source": [
    "from selenium import webdriver\n",
    "from selenium.webdriver.common.by import By\n",
    "from selenium.webdriver.chrome.service import Service\n",
    "from webdriver_manager.chrome import ChromeDriverManager\n",
    "import pandas as pd\n",
    "import time\n",
    "import re\n",
    "import plotly.express as px\n",
    "import dash\n",
    "from dash import dcc, html, dash_table\n",
    "from dash.dependencies import Input, Output\n",
    "import dash_bootstrap_components as dbc"
   ]
  },
  {
   "cell_type": "markdown",
   "id": "ecfbc5da",
   "metadata": {},
   "source": [
    "## Web Scraping Utilities"
   ]
  },
  {
   "cell_type": "code",
   "execution_count": 43,
   "id": "ecf4713e-b84c-4f78-ba13-2f1bbb0b9206",
   "metadata": {},
   "outputs": [],
   "source": [
    "def init_driver():\n",
    "    \"\"\"Initialize headless Chrome driver.\"\"\"\n",
    "    service = Service(ChromeDriverManager().install())\n",
    "    options = webdriver.ChromeOptions()\n",
    "    options.add_argument(\"--headless\")\n",
    "    options.add_argument(\"--disable-gpu\")\n",
    "    options.add_argument(\"--no-sandbox\")\n",
    "    options.add_argument(\"user-agent=Mozilla/5.0 (Windows NT 10.0; Win64; x64) AppleWebKit/537.36 (KHTML, like Gecko) Chrome/100.0.0.0 Safari/537.36\")\n",
    "    return webdriver.Chrome(service=service, options=options)\n",
    "\n",
    "def split_name_team(player_text):\n",
    "    \"\"\"\n",
    "    Splits a player's name and team from a string like 'James HardenLAC'.\n",
    "    Returns (name, team).\n",
    "    \"\"\"\n",
    "    suffixes = r\"(?:Jr\\.|Sr\\.|II|III|IV|V)\"\n",
    "    match = re.match(rf\"^(.+?)\\s*(?:({suffixes}))?\\s*([A-Z]{{3}})$\", player_text)\n",
    "    if match:\n",
    "        player_name = match.group(1).strip()\n",
    "        suffix = match.group(2) if match.group(2) else \"\"\n",
    "        team = match.group(3)\n",
    "        return f\"{player_name} {suffix}\".strip(), team\n",
    "    return player_text, \"N/A\"\n",
    "\n",
    "def fetch_nba_stats():\n",
    "    \"\"\"\n",
    "    Uses Selenium to scrape player stats from NBA.com.\n",
    "    Returns a pandas DataFrame.\n",
    "    \"\"\"\n",
    "    driver = init_driver()\n",
    "    url = \"https://www.nba.com/stats\"\n",
    "    driver.get(url)\n",
    "    time.sleep(5)\n",
    "\n",
    "    categories = [\n",
    "        \"Points\", \"Rebounds\", \"Assists\", \"Blocks\", \"Steals\",\n",
    "        \"Turnovers\", \"Three Pointers Made\", \"Free Throws Made\", \"Fantasy Points\"\n",
    "    ]\n",
    "\n",
    "    data = []\n",
    "    stat_tables = driver.find_elements(By.CLASS_NAME, \"LeaderBoardPlayerCard_lbpcTable__q3iZD\")\n",
    "\n",
    "    for idx, table in enumerate(stat_tables[:len(categories)]):\n",
    "        rows = table.find_elements(By.CLASS_NAME, \"LeaderBoardPlayerCard_lbpcTableRow___Lod5\")\n",
    "        for row in rows:\n",
    "            columns = row.find_elements(By.TAG_NAME, \"td\")\n",
    "            if len(columns) >= 3:\n",
    "                player_text = columns[1].text\n",
    "                player_name, team = split_name_team(player_text)\n",
    "                stat_value = columns[2].text\n",
    "                data.append([categories[idx], player_name, team, stat_value])\n",
    "\n",
    "    driver.quit()\n",
    "    return pd.DataFrame(data, columns=[\"Category\", \"Player\", \"Team\", \"Stat\"])"
   ]
  },
  {
   "cell_type": "code",
   "execution_count": 44,
   "id": "d54cb7a8",
   "metadata": {},
   "outputs": [],
   "source": [
    "team_colors = {\n",
    "    \"BOS\": \"#007A33\", \"LAL\": \"#552583\", \"MIA\": \"#98002E\", \"GSW\": \"#FDB927\",\n",
    "    \"CHI\": \"#CE1141\", \"NYK\": \"#006BB6\", \"PHI\": \"#006BB6\", \"BKN\": \"#000000\",\n",
    "    \"MIL\": \"#00471B\", \"DAL\": \"#00538C\", \"DEN\": \"#FEC524\", \"HOU\": \"#CE1141\",\n",
    "    \"OKC\": \"#007AC1\", \"SAS\": \"#C4CED4\", \"UTA\": \"#002B5C\", \"TOR\": \"#CE1141\",\n",
    "    \"NOP\": \"#0C2340\", \"IND\": \"#002D62\", \"POR\": \"#E03A3E\", \"SAC\": \"#5A2D81\",\n",
    "    \"WAS\": \"#002B5C\", \"ORL\": \"#0077C0\", \"CHA\": \"#1D1160\", \"MEM\": \"#5D76A9\",\n",
    "    \"DET\": \"#C8102E\", \"MIN\": \"#78BE20\", \"ATL\": \"#E03A3E\", \"CLE\": \"#860038\",\n",
    "    \"PHX\": \"#E56020\", \"LAC\": \"#C8102E\"\n",
    "}"
   ]
  },
  {
   "cell_type": "code",
   "execution_count": 45,
   "id": "1029d453",
   "metadata": {},
   "outputs": [],
   "source": [
    "df = fetch_nba_stats()"
   ]
  },
  {
   "cell_type": "code",
   "execution_count": 46,
   "id": "7dac0c04",
   "metadata": {},
   "outputs": [],
   "source": [
    "app = dash.Dash(__name__, external_stylesheets=[dbc.themes.BOOTSTRAP])\n",
    "app.title = \"NBA Stats Dashboard\"\n",
    "\n",
    "app.layout = dbc.Container([\n",
    "    html.H1(\"NBA Stats Dashboard\", className=\"text-center my-4\"),\n",
    "\n",
    "    dcc.Dropdown(\n",
    "        id='category-dropdown',\n",
    "        options=[{'label': cat, 'value': cat} for cat in df['Category'].unique()],\n",
    "        value=df['Category'].unique()[0],\n",
    "        clearable=False,\n",
    "        style={'width': '60%', 'margin': 'auto'}\n",
    "    ),\n",
    "\n",
    "    dcc.Graph(id='stats-graph', style={'height': '600px'}),\n",
    "\n",
    "    dash_table.DataTable(\n",
    "        id='stats-table',\n",
    "        columns=[\n",
    "            {\"name\": \"Player\", \"id\": \"Player\"},\n",
    "            {\"name\": \"Team\", \"id\": \"Team\"},\n",
    "            {\"name\": \"Stat\", \"id\": \"Stat\"}\n",
    "        ],\n",
    "        style_table={'margin': 'auto', 'width': '80%'},\n",
    "        style_cell={'textAlign': 'center'},\n",
    "        page_size=10,\n",
    "        sort_action=\"native\"\n",
    "    )\n",
    "], fluid=True)"
   ]
  },
  {
   "cell_type": "code",
   "execution_count": 47,
   "id": "7014b8f0",
   "metadata": {},
   "outputs": [],
   "source": [
    "@app.callback(\n",
    "    [Output('stats-graph', 'figure'),\n",
    "     Output('stats-table', 'data')],\n",
    "    [Input('category-dropdown', 'value')]\n",
    ")\n",
    "def update_dashboard(selected_category):\n",
    "    \"\"\"Update bar chart and table based on selected category.\"\"\"\n",
    "    filtered_df = df[df['Category'] == selected_category].copy()\n",
    "    filtered_df[\"Team\"] = filtered_df[\"Team\"].astype(str)\n",
    "    filtered_df[\"Stat\"] = pd.to_numeric(filtered_df[\"Stat\"], errors=\"coerce\").fillna(0)\n",
    "\n",
    "    filtered_df['Color'] = filtered_df['Team'].map(lambda team: team_colors.get(team, '#CCCCCC'))\n",
    "\n",
    "    fig = px.bar(\n",
    "        filtered_df.sort_values(by=\"Stat\", ascending=True),\n",
    "        x='Stat', y='Player',\n",
    "        color='Team',\n",
    "        text=filtered_df[\"Stat\"].astype(str),\n",
    "        orientation='h',\n",
    "        color_discrete_map=team_colors\n",
    "    )\n",
    "\n",
    "    fig.update_layout(\n",
    "        title=f\"Top Players in {selected_category}\",\n",
    "        xaxis_title=\"Stat\",\n",
    "        yaxis_title=\"Player\",\n",
    "        height=600,\n",
    "        xaxis=dict(range=[0, filtered_df[\"Stat\"].max() + 5]),\n",
    "        yaxis={'categoryorder': 'total ascending'}\n",
    "    )\n",
    "\n",
    "    return fig, filtered_df.to_dict('records')\n",
    "    "
   ]
  },
  {
   "cell_type": "code",
   "execution_count": 48,
   "id": "932f47a7",
   "metadata": {},
   "outputs": [
    {
     "data": {
      "text/html": [
       "\n",
       "        <iframe\n",
       "            width=\"100%\"\n",
       "            height=\"650\"\n",
       "            src=\"http://127.0.0.1:8050/\"\n",
       "            frameborder=\"0\"\n",
       "            allowfullscreen\n",
       "            \n",
       "        ></iframe>\n",
       "        "
      ],
      "text/plain": [
       "<IPython.lib.display.IFrame at 0x13d7f59a0>"
      ]
     },
     "metadata": {},
     "output_type": "display_data"
    }
   ],
   "source": [
    "if __name__ == '__main__':\n",
    "    app.run(debug=True)"
   ]
  }
 ],
 "metadata": {
  "kernelspec": {
   "display_name": "base",
   "language": "python",
   "name": "python3"
  },
  "language_info": {
   "codemirror_mode": {
    "name": "ipython",
    "version": 3
   },
   "file_extension": ".py",
   "mimetype": "text/x-python",
   "name": "python",
   "nbconvert_exporter": "python",
   "pygments_lexer": "ipython3",
   "version": "3.12.7"
  }
 },
 "nbformat": 4,
 "nbformat_minor": 5
}
